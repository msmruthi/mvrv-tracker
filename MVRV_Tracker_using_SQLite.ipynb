{
  "nbformat": 4,
  "nbformat_minor": 0,
  "metadata": {
    "colab": {
      "provenance": []
    },
    "kernelspec": {
      "name": "python3",
      "display_name": "Python 3"
    },
    "language_info": {
      "name": "python"
    }
  },
  "cells": [
    {
      "cell_type": "markdown",
      "source": [
        "We can also calculate MVRV results and save them in a local SQLite database, which offers better scalability and efficiency compared to storing data in CSV files, especially as the dataset grows over time. You can also automates hourly updates using the *schedule* library to continuously append new data points, There is also a helper function included to query recent records from the database for analysis. The code below is a demo for Bitcoin but the same can be done for Solana by replacing the data fetching and calculating functions from the ones used in the *Solana MVRV Calculation* notebook."
      ],
      "metadata": {
        "id": "huQmDjlH1YYu"
      }
    },
    {
      "cell_type": "markdown",
      "source": [
        "**Data Fetching and Calculation Functions:**\n",
        "- *get_btc_supply()* :\n",
        "Fetches Bitcoin's circulating supply from the CoinGecko API\n",
        "- *get_price_volume_data()* :\n",
        "Retrieves the last 365 days of Bitcoin price and volume data from the CoinGecko market chart API. It converts the returned timestamps to datetime objects and merges price and volume data into a single DataFrame.\n",
        "- *get_current_btc_price()* :\n",
        "Gets the current Bitcoin price in USD from CoinGecko’s simple price API.\n",
        "\n",
        "- *calculate_mvrv()* :\n",
        "Calls the above data-fetching functions to get price-volume data, circulating supply, and current price. It calculates VWAP, Realized Value (RV), Market Value(MV) and MVRV ratio. It prints and returns these key metrics along with a timestamp.\n",
        "\n",
        "**Database Storage Functions:**\n",
        "\n",
        "- *save_to_db(data, db_path=\"mvrv_data.db\")* :\n",
        "Connects to a local SQLite database (or creates one if missing), ensures the mvrv_history table exists, and inserts the latest MVRV data into it, then closes the connection.\n",
        "\n",
        "- *read_mvrv_data(db_path=\"mvrv_data.db\", limit=5)* :\n",
        "Queries the SQLite database to read the most recent limit entries from the mvrv_history table, returning the results as a pandas DataFrame.\n",
        "\n",
        "**Scheduling and Execution:**\n",
        "The script installs and uses the schedule library to set up a job that runs the MVRV calculation and saves it every hour automatically. I am using it to demo for 3 hours but you can keep it running inside an infinite loop."
      ],
      "metadata": {
        "id": "YBbPAISm2qXj"
      }
    },
    {
      "cell_type": "code",
      "execution_count": null,
      "metadata": {
        "colab": {
          "base_uri": "https://localhost:8080/"
        },
        "id": "Xgy2Xi-A1UPU",
        "outputId": "1b6cc295-5f11-43f3-da43-8a60e879bdc9"
      },
      "outputs": [
        {
          "output_type": "stream",
          "name": "stdout",
          "text": [
            "Current BTC Price: $107,383.00\n",
            "Circulating BTC Supply: 19,884,043\n",
            "VWAP (approx realized price): $86,587.49\n",
            "Realized Value: $1,721,709,323,474.73\n",
            "Market Value: $2,135,208,189,469.00\n",
            "MVRV Ratio: 1.2402\n",
            "Saved to database\n"
          ]
        }
      ],
      "source": [
        "import requests\n",
        "import pandas as pd\n",
        "import sqlite3\n",
        "from datetime import datetime\n",
        "\n",
        "# Fetch Circulating Supply\n",
        "def get_btc_supply():\n",
        "    url = \"https://api.coingecko.com/api/v3/coins/bitcoin\"\n",
        "    params = {\n",
        "        \"localization\": \"false\",\n",
        "        \"tickers\": \"false\",\n",
        "        \"market_data\": \"true\",\n",
        "        \"community_data\": \"false\",\n",
        "        \"developer_data\": \"false\",\n",
        "        \"sparkline\": \"false\"\n",
        "    }\n",
        "    try:\n",
        "        response = requests.get(url, params=params)\n",
        "        data = response.json()\n",
        "        return data[\"market_data\"][\"circulating_supply\"]\n",
        "    except Exception as e:\n",
        "        print(\"Error fetching BTC supply:\", e)\n",
        "        return None\n",
        "\n",
        "# Fetch 365 Days of Price/Volume\n",
        "def get_price_volume_data():\n",
        "    url = \"https://api.coingecko.com/api/v3/coins/bitcoin/market_chart\"\n",
        "    params = {\"vs_currency\": \"usd\", \"days\": \"365\"}\n",
        "    try:\n",
        "        response = requests.get(url, params=params)\n",
        "        data = response.json()\n",
        "\n",
        "        # Convert to DataFrame\n",
        "        prices = pd.DataFrame(data[\"prices\"], columns=[\"timestamp\", \"price\"])\n",
        "        volumes = pd.DataFrame(data[\"total_volumes\"], columns=[\"timestamp\", \"volume\"])\n",
        "\n",
        "        prices[\"date\"] = pd.to_datetime(prices[\"timestamp\"], unit=\"ms\")\n",
        "        volumes[\"date\"] = pd.to_datetime(volumes[\"timestamp\"], unit=\"ms\")\n",
        "\n",
        "        df = pd.merge(prices[[\"date\", \"price\"]], volumes[[\"date\", \"volume\"]], on=\"date\")\n",
        "        return df\n",
        "\n",
        "    except Exception as e:\n",
        "        print(\"Error fetching price/volume data:\", e)\n",
        "        return None\n",
        "\n",
        "# Fetch Current BTC Price\n",
        "def get_current_btc_price():\n",
        "    url = 'https://api.coingecko.com/api/v3/simple/price?ids=bitcoin&vs_currencies=usd'\n",
        "    try:\n",
        "        response = requests.get(url)\n",
        "        return response.json()['bitcoin']['usd']\n",
        "    except Exception as e:\n",
        "        print(\"Error fetching current price:\", e)\n",
        "        return None\n",
        "\n",
        "# Calculate MVRV Ratio\n",
        "def calculate_mvrv():\n",
        "    df = get_price_volume_data()\n",
        "    btc_supply = get_btc_supply()\n",
        "    current_price = get_current_btc_price()\n",
        "\n",
        "    if df is None or btc_supply is None or current_price is None:\n",
        "        print(\"Missing data. Cannot compute MVRV.\")\n",
        "        return\n",
        "\n",
        "    # Calculate VWAP\n",
        "    vwap = (df[\"price\"] * df[\"volume\"]).sum() / df[\"volume\"].sum()\n",
        "    realized_value = vwap * btc_supply\n",
        "    market_value = current_price * btc_supply\n",
        "    mvrv = market_value / realized_value\n",
        "\n",
        "    # Print results\n",
        "    print(f\"Current BTC Price: ${current_price:,.2f}\")\n",
        "    print(f\"Circulating BTC Supply: {btc_supply:,.0f}\")\n",
        "    print(f\"VWAP (approx realized price): ${vwap:,.2f}\")\n",
        "    print(f\"Realized Value: ${realized_value:,.2f}\")\n",
        "    print(f\"Market Value: ${market_value:,.2f}\")\n",
        "    print(f\"MVRV Ratio: {mvrv:.4f}\")\n",
        "\n",
        "    # Optionally return all values\n",
        "    return {\n",
        "        \"timestamp\": datetime.utcnow().strftime('%Y-%m-%d %H:%M:%S'),\n",
        "        \"btc_price\": current_price,\n",
        "        \"btc_supply\": btc_supply,\n",
        "        \"vwap\": vwap,\n",
        "        \"realized_value\": realized_value,\n",
        "        \"market_value\": market_value,\n",
        "        \"mvrv\": mvrv\n",
        "    }\n",
        "\n",
        "#  Save to SQLite\n",
        "def save_to_db(data, db_path=\"mvrv_data.db\"):\n",
        "    conn = sqlite3.connect(db_path)\n",
        "    cursor = conn.cursor()\n",
        "    cursor.execute('''\n",
        "        CREATE TABLE IF NOT EXISTS mvrv_history (\n",
        "            timestamp TEXT,\n",
        "            btc_price REAL,\n",
        "            btc_supply REAL,\n",
        "            vwap REAL,\n",
        "            realized_value REAL,\n",
        "            market_value REAL,\n",
        "            mvrv REAL\n",
        "        )\n",
        "    ''')\n",
        "    cursor.execute('''\n",
        "        INSERT INTO mvrv_history VALUES (?, ?, ?, ?, ?, ?, ?)\n",
        "    ''', (\n",
        "        data['timestamp'],\n",
        "        data['btc_price'],\n",
        "        data['btc_supply'],\n",
        "        data['vwap'],\n",
        "        data['realized_value'],\n",
        "        data['market_value'],\n",
        "        data['mvrv']\n",
        "    ))\n",
        "    conn.commit()\n",
        "    conn.close()\n",
        "    print(\"Saved to database\")\n",
        "\n",
        "# Run all\n",
        "if __name__ == \"__main__\":\n",
        "    result = calculate_mvrv()\n",
        "    if result:\n",
        "        save_to_db(result)"
      ]
    },
    {
      "cell_type": "code",
      "source": [
        "! pip install schedule"
      ],
      "metadata": {
        "colab": {
          "base_uri": "https://localhost:8080/"
        },
        "id": "dHOusf522EaU",
        "outputId": "f9c7cd88-a66b-49fc-be9c-17a523285cf4"
      },
      "execution_count": null,
      "outputs": [
        {
          "output_type": "stream",
          "name": "stdout",
          "text": [
            "Collecting schedule\n",
            "  Downloading schedule-1.2.2-py3-none-any.whl.metadata (3.8 kB)\n",
            "Downloading schedule-1.2.2-py3-none-any.whl (12 kB)\n",
            "Installing collected packages: schedule\n",
            "Successfully installed schedule-1.2.2\n"
          ]
        }
      ]
    },
    {
      "cell_type": "code",
      "source": [
        "import schedule\n",
        "import time\n",
        "\n",
        "def job():\n",
        "    result = calculate_mvrv()\n",
        "    if result:\n",
        "        save_to_db(result)\n",
        "    print(\"Job done.\")\n",
        "\n",
        "schedule.every().hour.do(job)\n",
        "\n",
        "start_time = time.time()\n",
        "run_duration_seconds = 3 * 60 * 60  # 3 hours in seconds\n",
        "\n",
        "while True:\n",
        "    schedule.run_pending()\n",
        "    time.sleep(1)\n",
        "\n",
        "    elapsed_time = time.time() - start_time\n",
        "    if elapsed_time > run_duration_seconds:\n",
        "        print(\"Run duration reached 3 hours. Stopping scheduler.\")\n",
        "        break"
      ],
      "metadata": {
        "colab": {
          "base_uri": "https://localhost:8080/"
        },
        "id": "yKeHDVfI2G77",
        "outputId": "68c26383-73e3-4d0c-c60f-5c3ec51ed217"
      },
      "execution_count": null,
      "outputs": [
        {
          "output_type": "stream",
          "name": "stdout",
          "text": [
            "Current BTC Price: $107,357.00\n",
            "Circulating BTC Supply: 19,884,043\n",
            "VWAP (approx realized price): $86,589.73\n",
            "Realized Value: $1,721,753,849,268.22\n",
            "Market Value: $2,134,691,204,351.00\n",
            "MVRV Ratio: 1.2398\n",
            "Saved to database\n",
            "Job done.\n",
            "Current BTC Price: $107,240.00\n",
            "Circulating BTC Supply: 19,884,043\n",
            "VWAP (approx realized price): $86,590.50\n",
            "Realized Value: $1,721,769,190,969.24\n",
            "Market Value: $2,132,364,771,320.00\n",
            "MVRV Ratio: 1.2385\n",
            "Saved to database\n",
            "Job done.\n",
            "Run duration reached 3 hours. Stopping scheduler.\n"
          ]
        }
      ]
    },
    {
      "cell_type": "markdown",
      "source": [
        "To print the most recent 5 records from the database."
      ],
      "metadata": {
        "id": "lOe-xNoL5M1d"
      }
    },
    {
      "cell_type": "code",
      "source": [
        "def read_mvrv_data(db_path=\"mvrv_data.db\", limit=5):\n",
        "    conn = sqlite3.connect(db_path)\n",
        "    query = f\"SELECT * FROM mvrv_history ORDER BY timestamp DESC LIMIT {limit}\"\n",
        "    df = pd.read_sql_query(query, conn)\n",
        "    conn.close()\n",
        "    return df\n",
        "\n",
        "df_sample = read_mvrv_data()\n",
        "print(df_sample)"
      ],
      "metadata": {
        "colab": {
          "base_uri": "https://localhost:8080/"
        },
        "id": "vWBccV772I3z",
        "outputId": "0de19801-8f53-4f60-fc03-f611db284738"
      },
      "execution_count": null,
      "outputs": [
        {
          "output_type": "stream",
          "name": "stdout",
          "text": [
            "             timestamp  btc_price  btc_supply          vwap  realized_value  \\\n",
            "0  2025-06-27 07:39:45   107240.0  19884043.0  86590.498269    1.721769e+12   \n",
            "1  2025-06-27 06:39:44   107357.0  19884043.0  86589.726710    1.721754e+12   \n",
            "2  2025-06-27 05:39:25   107383.0  19884043.0  86587.487438    1.721709e+12   \n",
            "\n",
            "   market_value      mvrv  \n",
            "0  2.132365e+12  1.238473  \n",
            "1  2.134691e+12  1.239835  \n",
            "2  2.135208e+12  1.240168  \n"
          ]
        }
      ]
    },
    {
      "cell_type": "markdown",
      "source": [
        "To get daily_mvrv calculated by aggregating hourly data."
      ],
      "metadata": {
        "id": "g7B4Ar_nrAQG"
      }
    },
    {
      "cell_type": "code",
      "source": [
        "def read_daily_mvrv(db_path=\"mvrv_data.db\", limit=7):\n",
        "    conn = sqlite3.connect(db_path)\n",
        "    query = f\"\"\"\n",
        "        SELECT\n",
        "            DATE(timestamp) AS date,\n",
        "            AVG(btc_price) AS avg_btc_price,\n",
        "            AVG(vwap) AS avg_vwap,\n",
        "            AVG(realized_value) AS avg_realized_value,\n",
        "            AVG(market_value) AS avg_market_value,\n",
        "            AVG(mvrv) AS avg_mvrv\n",
        "        FROM mvrv_history\n",
        "        GROUP BY DATE(timestamp)\n",
        "        ORDER BY DATE(timestamp) DESC\n",
        "        LIMIT {limit}\n",
        "    \"\"\"\n",
        "    df = pd.read_sql_query(query, conn)\n",
        "    conn.close()\n",
        "    return df\n",
        "\n",
        "daily_df = read_daily_mvrv()\n",
        "print(daily_df)\n"
      ],
      "metadata": {
        "id": "isagZzPYq_yZ"
      },
      "execution_count": null,
      "outputs": []
    }
  ]
}